{
 "cells": [
  {
   "cell_type": "markdown",
   "id": "b4a442b9",
   "metadata": {},
   "source": [
    "# PW SKILLS"
   ]
  },
  {
   "cell_type": "markdown",
   "id": "ee61c98d",
   "metadata": {},
   "source": [
    "## Assignment Questions"
   ]
  },
  {
   "cell_type": "code",
   "execution_count": 2,
   "id": "af8e1f34",
   "metadata": {},
   "outputs": [],
   "source": [
    "import pandas as pd\n",
    "\n",
    "course_name = ['Data Science ', 'Machine Learning', 'Big Data', 'Data Engineer']\n",
    "\n",
    "duration =  [2,3,6,4]\n",
    "\n",
    "df = pd.DataFrame(data = {'course_name' : course_name, 'duration' : duration})"
   ]
  },
  {
   "cell_type": "markdown",
   "id": "a417a68d",
   "metadata": {},
   "source": [
    "### Q1. Write a code to print the data present in the second row of the dataframe, df.\n",
    "### Answer :"
   ]
  },
  {
   "cell_type": "code",
   "execution_count": 4,
   "id": "69858df0",
   "metadata": {},
   "outputs": [
    {
     "name": "stdout",
     "output_type": "stream",
     "text": [
      "course_name    Machine Learning\n",
      "duration                      3\n",
      "Name: 1, dtype: object\n"
     ]
    }
   ],
   "source": [
    "second_row_data = df.iloc[1]\n",
    "print(second_row_data)"
   ]
  },
  {
   "cell_type": "markdown",
   "id": "8063fc84",
   "metadata": {},
   "source": [
    "### Q2. What is the difference between the functions loc and iloc in pandas.DataFrame?\n",
    "### Answer :In Pandas, both loc and iloc are used to access and manipulate data in a DataFrame, but they have different ways of indexing and selecting data.\n",
    "\n",
    "### 1. loc (label-based indexing):\n",
    "\n",
    "### loc is primarily label-based, meaning that you use the actual labels of the rows and columns to access data.\n",
    "### It accepts labels (row and column names) as arguments.\n",
    "### The syntax is df.loc[row_label, column_label].\n",
    "### It includes the last element when using slices, like df.loc[start_row:end_row, start_col:end_col].\n",
    "### Example:"
   ]
  },
  {
   "cell_type": "code",
   "execution_count": 5,
   "id": "67b0bc79",
   "metadata": {},
   "outputs": [],
   "source": [
    "# Access a specific element\n",
    "value = df.loc[1, 'course_name']\n",
    "\n",
    "# Access a slice of rows and columns\n",
    "slice_data = df.loc[1:2, 'course_name':'duration']\n"
   ]
  },
  {
   "cell_type": "markdown",
   "id": "ebe8cc06",
   "metadata": {},
   "source": [
    "### 2. iloc (integer-based indexing):\n",
    "\n",
    "### iloc is primarily integer-based, meaning that you use integer positions to access data.\n",
    "### It accepts integer positions as arguments.\n",
    "### The syntax is df.iloc[row_index, col_index].\n",
    "### It excludes the last element when using slices, like df.iloc[start_row:end_row, start_col:end_col]."
   ]
  },
  {
   "cell_type": "code",
   "execution_count": 6,
   "id": "6529a479",
   "metadata": {},
   "outputs": [],
   "source": [
    "# Access a specific element\n",
    "value = df.iloc[1, 0]\n",
    "\n",
    "# Access a slice of rows and columns\n",
    "slice_data = df.iloc[1:3, 0:2]\n"
   ]
  },
  {
   "cell_type": "markdown",
   "id": "a1bab0c2",
   "metadata": {},
   "source": [
    "### In summary, the key difference is in the way you reference data:\n",
    "\n",
    "$$$ Use loc when you want to access data based on labels. \n",
    "Use iloc when you want to access data based on integer positions."
   ]
  },
  {
   "cell_type": "markdown",
   "id": "de89d29f",
   "metadata": {},
   "source": [
    "### Q3. Reindex the given dataframe using a variable, reindex = [3,0,1,2] and store it in the variable, new_df then find the output for both new_df.loc[2] and new_df.iloc[2].\n",
    "\n",
    "### Did you observe any difference in both the outputs? If so then explain it.\n",
    "\n",
    "### Consider the below code to answer further questions:\n"
   ]
  },
  {
   "cell_type": "code",
   "execution_count": 7,
   "id": "6aeef476",
   "metadata": {},
   "outputs": [],
   "source": [
    "import pandas as pd\n",
    "\n",
    "import numpy as np\n",
    "\n",
    "columns = ['column_1', 'column_2', 'column_3', 'column_4', 'column_5', 'column_6']\n",
    "\n",
    "indices = [1,2,3,4,5,6]\n",
    "\n",
    "#Creating a dataframe:\n",
    "\n",
    "df1 = pd.DataFrame(np.random.rand(6,6), columns = columns, index = indices)\n"
   ]
  },
  {
   "cell_type": "code",
   "execution_count": 8,
   "id": "4674e763",
   "metadata": {},
   "outputs": [
    {
     "data": {
      "text/html": [
       "<div>\n",
       "<style scoped>\n",
       "    .dataframe tbody tr th:only-of-type {\n",
       "        vertical-align: middle;\n",
       "    }\n",
       "\n",
       "    .dataframe tbody tr th {\n",
       "        vertical-align: top;\n",
       "    }\n",
       "\n",
       "    .dataframe thead th {\n",
       "        text-align: right;\n",
       "    }\n",
       "</style>\n",
       "<table border=\"1\" class=\"dataframe\">\n",
       "  <thead>\n",
       "    <tr style=\"text-align: right;\">\n",
       "      <th></th>\n",
       "      <th>column_1</th>\n",
       "      <th>column_2</th>\n",
       "      <th>column_3</th>\n",
       "      <th>column_4</th>\n",
       "      <th>column_5</th>\n",
       "      <th>column_6</th>\n",
       "    </tr>\n",
       "  </thead>\n",
       "  <tbody>\n",
       "    <tr>\n",
       "      <th>1</th>\n",
       "      <td>0.471649</td>\n",
       "      <td>0.218736</td>\n",
       "      <td>0.839935</td>\n",
       "      <td>0.300043</td>\n",
       "      <td>0.178637</td>\n",
       "      <td>0.688249</td>\n",
       "    </tr>\n",
       "    <tr>\n",
       "      <th>2</th>\n",
       "      <td>0.463962</td>\n",
       "      <td>0.447357</td>\n",
       "      <td>0.165665</td>\n",
       "      <td>0.628746</td>\n",
       "      <td>0.736598</td>\n",
       "      <td>0.756314</td>\n",
       "    </tr>\n",
       "    <tr>\n",
       "      <th>3</th>\n",
       "      <td>0.264974</td>\n",
       "      <td>0.315467</td>\n",
       "      <td>0.414455</td>\n",
       "      <td>0.006534</td>\n",
       "      <td>0.695764</td>\n",
       "      <td>0.747601</td>\n",
       "    </tr>\n",
       "    <tr>\n",
       "      <th>4</th>\n",
       "      <td>0.795603</td>\n",
       "      <td>0.358316</td>\n",
       "      <td>0.389258</td>\n",
       "      <td>0.712887</td>\n",
       "      <td>0.809547</td>\n",
       "      <td>0.068072</td>\n",
       "    </tr>\n",
       "    <tr>\n",
       "      <th>5</th>\n",
       "      <td>0.523220</td>\n",
       "      <td>0.679329</td>\n",
       "      <td>0.639687</td>\n",
       "      <td>0.834912</td>\n",
       "      <td>0.691027</td>\n",
       "      <td>0.494630</td>\n",
       "    </tr>\n",
       "    <tr>\n",
       "      <th>6</th>\n",
       "      <td>0.196033</td>\n",
       "      <td>0.970512</td>\n",
       "      <td>0.788547</td>\n",
       "      <td>0.655497</td>\n",
       "      <td>0.369094</td>\n",
       "      <td>0.018265</td>\n",
       "    </tr>\n",
       "  </tbody>\n",
       "</table>\n",
       "</div>"
      ],
      "text/plain": [
       "   column_1  column_2  column_3  column_4  column_5  column_6\n",
       "1  0.471649  0.218736  0.839935  0.300043  0.178637  0.688249\n",
       "2  0.463962  0.447357  0.165665  0.628746  0.736598  0.756314\n",
       "3  0.264974  0.315467  0.414455  0.006534  0.695764  0.747601\n",
       "4  0.795603  0.358316  0.389258  0.712887  0.809547  0.068072\n",
       "5  0.523220  0.679329  0.639687  0.834912  0.691027  0.494630\n",
       "6  0.196033  0.970512  0.788547  0.655497  0.369094  0.018265"
      ]
     },
     "execution_count": 8,
     "metadata": {},
     "output_type": "execute_result"
    }
   ],
   "source": [
    "df1"
   ]
  },
  {
   "cell_type": "markdown",
   "id": "7cd681ed",
   "metadata": {},
   "source": [
    "### Answer : Certainly! First, let's reindex the DataFrame using the provided reindex variable and then look at the outputs for new_df.loc[2] and new_df.iloc[2]. Here's the code:"
   ]
  },
  {
   "cell_type": "code",
   "execution_count": 9,
   "id": "0361efdd",
   "metadata": {},
   "outputs": [
    {
     "name": "stdout",
     "output_type": "stream",
     "text": [
      "Output for new_df.loc[2]:\n",
      " column_1    0.463962\n",
      "column_2    0.447357\n",
      "column_3    0.165665\n",
      "column_4    0.628746\n",
      "column_5    0.736598\n",
      "column_6    0.756314\n",
      "Name: 2, dtype: float64\n",
      "\n",
      "Output for new_df.iloc[2]:\n",
      " column_1    0.471649\n",
      "column_2    0.218736\n",
      "column_3    0.839935\n",
      "column_4    0.300043\n",
      "column_5    0.178637\n",
      "column_6    0.688249\n",
      "Name: 1, dtype: float64\n"
     ]
    }
   ],
   "source": [
    "# Given reindex variable\n",
    "reindex = [3, 0, 1, 2]\n",
    "\n",
    "# Reindexing the DataFrame\n",
    "new_df = df1.reindex(reindex)\n",
    "\n",
    "# Output for new_df.loc[2]\n",
    "output_loc = new_df.loc[2]\n",
    "print(\"Output for new_df.loc[2]:\\n\", output_loc)\n",
    "\n",
    "# Output for new_df.iloc[2]\n",
    "output_iloc = new_df.iloc[2]\n",
    "print(\"\\nOutput for new_df.iloc[2]:\\n\", output_iloc)"
   ]
  },
  {
   "cell_type": "markdown",
   "id": "1a24c485",
   "metadata": {},
   "source": [
    "### The outputs for new_df.loc[2] and new_df.iloc[2] might be different due to the reindexing. In the given reindex, the order of indices has been changed. Let's break down the differences:\n",
    "\n",
    "### 1. new_df.loc[2]:\n",
    "\n",
    "### This uses label-based indexing. It will look for the row with the label/index '2' in the reindexed DataFrame.\n",
    "### Since the reindexing changed the order, it will look for the row labeled '2' in the new order, not the original order.\n",
    "### It should return the row with the label '1' in the original DataFrame.\n",
    "### 2. new_df.iloc[2]:\n",
    "\n",
    "### This uses integer-based indexing. It will look for the row at integer position '2' in the reindexed DataFrame.\n",
    "### In the reindexed DataFrame, the row at position '2' corresponds to the original row with the label '3'.\n",
    "### It should return the row labeled '3' in the original DataFrame.\n",
    "### So, the outputs for new_df.loc[2] and new_df.iloc[2] are expected to be different due to the reindexing, and the explanation above should clarify the observed differences."
   ]
  },
  {
   "cell_type": "markdown",
   "id": "bb36eedd",
   "metadata": {},
   "source": [
    "### Q4. Write a code to find the following statistical measurements for the above dataframe df1:\n",
    "\n",
    "### (i) \tmean of each and every column present in the dataframe.\n",
    "\n",
    "### (ii) standard deviation of column, ‘column_2’.\n",
    "### Answer : Certainly! We can use the Pandas functions to calculate the statistical measurements for the given DataFrame df1. Here's the code to find the mean of each column and the standard deviation of the 'column_2':"
   ]
  },
  {
   "cell_type": "code",
   "execution_count": 10,
   "id": "8146cba8",
   "metadata": {},
   "outputs": [
    {
     "name": "stdout",
     "output_type": "stream",
     "text": [
      "Mean of each column:\n",
      " column_1    0.548339\n",
      "column_2    0.761616\n",
      "column_3    0.577370\n",
      "column_4    0.614465\n",
      "column_5    0.542794\n",
      "column_6    0.542315\n",
      "dtype: float64\n",
      "\n",
      "Standard deviation of 'column_2': 0.18456047490017038\n"
     ]
    }
   ],
   "source": [
    "import pandas as pd\n",
    "import numpy as np\n",
    "\n",
    "columns = ['column_1', 'column_2', 'column_3', 'column_4', 'column_5', 'column_6']\n",
    "indices = [1, 2, 3, 4, 5, 6]\n",
    "\n",
    "# Creating a dataframe\n",
    "df1 = pd.DataFrame(np.random.rand(6, 6), columns=columns, index=indices)\n",
    "\n",
    "# (i) Mean of each column\n",
    "column_means = df1.mean()\n",
    "print(\"Mean of each column:\\n\", column_means)\n",
    "\n",
    "# (ii) Standard deviation of 'column_2'\n",
    "column_2_std = df1['column_2'].std()\n",
    "print(\"\\nStandard deviation of 'column_2':\", column_2_std)\n"
   ]
  },
  {
   "cell_type": "markdown",
   "id": "3fec9a1c",
   "metadata": {},
   "source": [
    "### Explanation:\n",
    "\n",
    "### (i) We use the mean function on the DataFrame to calculate the mean of each column. The result is a Pandas Series where each element represents the mean of the corresponding column.\n",
    "### (ii) We use the std function on the 'column_2' to calculate the standard deviation of that specific column.Replace 'column_2' with the column name you want to calculate the standard deviation for."
   ]
  },
  {
   "cell_type": "markdown",
   "id": "f0311cca",
   "metadata": {},
   "source": [
    "### Q5. Replace the data present in the second row of column, ‘column_2’ by a string variable then find the mean of column, column_2.\n",
    "\n",
    "### If you are getting errors in executing it then explain why.\n",
    "\n",
    "### [Hint: To replace the data use df1.loc[] and equate this to string data of your choice.]\n",
    "### Answer : If We replace the data in the 'column_2' of the second row with a string variable, you might encounter errors when trying to calculate the mean. This is because the 'column_2' initially contains numerical values, and replacing a numerical value with a string will cause Pandas to convert the entire column to an object dtype (string dtype).\n",
    "\n",
    "### Here's the code that might cause the issue:"
   ]
  },
  {
   "cell_type": "code",
   "execution_count": null,
   "id": "2493f970",
   "metadata": {},
   "outputs": [],
   "source": [
    "import pandas as pd\n",
    "import numpy as np\n",
    "\n",
    "columns = ['column_1', 'column_2', 'column_3', 'column_4', 'column_5', 'column_6']\n",
    "indices = [1, 2, 3, 4, 5, 6]\n",
    "\n",
    "# Creating a dataframe\n",
    "df1 = pd.DataFrame(np.random.rand(6, 6), columns=columns, index=indices)\n",
    "\n",
    "# Replace the data in the second row of 'column_2' with a string\n",
    "df1.loc[2, 'column_2'] = 'example_string'\n",
    "\n",
    "# Try to calculate the mean of 'column_2'\n",
    "column_2_mean = df1['column_2'].mean()\n",
    "print(\"Mean of 'column_2':\", column_2_mean)\n"
   ]
  },
  {
   "cell_type": "markdown",
   "id": "7e53e458",
   "metadata": {},
   "source": [
    "### This code will likely raise a TypeError because the 'column_2' has been converted to an object dtype due to the presence of a string. We cannot calculate the mean of a column containing a mix of numerical and string values.\n",
    "\n",
    "### If We want to replace the numerical value with a string, consider using a column with a dtype that can handle both numerical and string data, such as object dtype. Alternatively, if we still want to perform numerical operations, replace the data with a numerical value instead of a string.\n",
    "\n",
    "### If we have a specific requirement for including string values in a numerical column, we may need to handle it differently, such as using a separate column for string data or converting the column to a more general dtype like object."
   ]
  },
  {
   "cell_type": "markdown",
   "id": "e894a706",
   "metadata": {},
   "source": [
    "### Q6. What do you understand about the windows function in pandas and list the types of windows functions?\n",
    "### Answer : In Pandas, a window function is a way to perform operations on a specified set of data points called a \"window\" that moves through the data frame. Window functions are particularly useful for time series data and other sequential data where you want to perform calculations over a specific range of rows.\n",
    "\n",
    "### The primary function for applying window operations is rolling(), which creates a Rolling object providing rolling view over the data. After creating a Rolling object, you can apply various window functions to it.\n",
    "\n",
    "### Here are some common types of window functions in Pandas:\n",
    "\n",
    "### 1. Rolling Mean (Moving Average):\n",
    "\n",
    "### Calculates the mean of the values within a specified window."
   ]
  },
  {
   "cell_type": "code",
   "execution_count": null,
   "id": "8a9ae490",
   "metadata": {},
   "outputs": [],
   "source": [
    "df['column'].rolling(window=3).mean()\n"
   ]
  },
  {
   "cell_type": "markdown",
   "id": "30647abc",
   "metadata": {},
   "source": [
    "### 2. Rolling Sum:\n",
    "\n",
    "### Calculates the sum of the values within a specified window."
   ]
  },
  {
   "cell_type": "code",
   "execution_count": null,
   "id": "259a67d4",
   "metadata": {},
   "outputs": [],
   "source": [
    "df['column'].rolling(window=3).sum()\n"
   ]
  },
  {
   "cell_type": "markdown",
   "id": "4b6bca5c",
   "metadata": {},
   "source": [
    "### 3. Rolling Standard Deviation:\n",
    "\n",
    "### Calculates the standard deviation of the values within a specified window."
   ]
  },
  {
   "cell_type": "code",
   "execution_count": null,
   "id": "8e6855e6",
   "metadata": {},
   "outputs": [],
   "source": [
    "df['column'].rolling(window=3).std()\n"
   ]
  },
  {
   "cell_type": "markdown",
   "id": "4b433e6d",
   "metadata": {},
   "source": [
    "### 4. Exponential Moving Average (EMA):\n",
    "\n",
    "### Calculates the exponentially weighted moving average."
   ]
  },
  {
   "cell_type": "code",
   "execution_count": null,
   "id": "2e54aca8",
   "metadata": {},
   "outputs": [],
   "source": [
    "df['column'].ewm(span=3, adjust=False).mean()\n"
   ]
  },
  {
   "cell_type": "markdown",
   "id": "f44bc0c1",
   "metadata": {},
   "source": [
    "### 5. Expanding Mean:\n",
    "\n",
    "### Calculates the mean of all values up to the current point."
   ]
  },
  {
   "cell_type": "code",
   "execution_count": null,
   "id": "06301d32",
   "metadata": {},
   "outputs": [],
   "source": [
    "df['column'].expanding().mean()\n"
   ]
  },
  {
   "cell_type": "markdown",
   "id": "c93c90e1",
   "metadata": {},
   "source": [
    "### 6. Ranking within a Window:\n",
    "\n",
    "### Assigns a rank to each element in the window based on their values."
   ]
  },
  {
   "cell_type": "code",
   "execution_count": null,
   "id": "527bb385",
   "metadata": {},
   "outputs": [],
   "source": [
    "df['column'].rolling(window=3).rank()\n"
   ]
  },
  {
   "cell_type": "markdown",
   "id": "795b0680",
   "metadata": {},
   "source": [
    "### 7. Custom Window Functions:\n",
    "\n",
    "### You can apply custom functions using the apply method."
   ]
  },
  {
   "cell_type": "code",
   "execution_count": null,
   "id": "4c03f342",
   "metadata": {},
   "outputs": [],
   "source": [
    "df['column'].rolling(window=3).apply(custom_function)\n"
   ]
  },
  {
   "cell_type": "markdown",
   "id": "d5e6e8c3",
   "metadata": {},
   "source": [
    "### These window functions are powerful tools for analyzing trends, patterns, and changes in data over time. They are especially valuable in time series analysis, signal processing, and various other applications where understanding the local behavior of data is crucial."
   ]
  },
  {
   "cell_type": "markdown",
   "id": "61f65813",
   "metadata": {},
   "source": [
    "### Q7. Write a code to print only the current month and year at the time of answering this question.[Hint: Use pandas.datetime function]\n",
    "### Answer : Sure, you can use the pd.to_datetime function along with pd.Timestamp.now() to get the current date and then extract the month and year. Here's an example code:"
   ]
  },
  {
   "cell_type": "code",
   "execution_count": 13,
   "id": "c8a1661e",
   "metadata": {},
   "outputs": [
    {
     "name": "stdout",
     "output_type": "stream",
     "text": [
      "Current Month: 2, Current Year: 2024\n"
     ]
    }
   ],
   "source": [
    "import pandas as pd\n",
    "\n",
    "# Get the current date and time\n",
    "current_datetime = pd.Timestamp.now()\n",
    "\n",
    "# Extract the month and year\n",
    "current_month = current_datetime.month\n",
    "current_year = current_datetime.year\n",
    "\n",
    "# Print the result\n",
    "print(f\"Current Month: {current_month}, Current Year: {current_year}\")\n"
   ]
  },
  {
   "cell_type": "markdown",
   "id": "bb74f259",
   "metadata": {},
   "source": [
    "### This code uses pd.Timestamp.now() to get the current date and time and then extracts the month and year components. The result is then printed. Note that the month will be represented as an integer (1 for January, 2 for February, and so on)."
   ]
  },
  {
   "cell_type": "markdown",
   "id": "abbdf9a2",
   "metadata": {},
   "source": [
    "### Q8. Write a Python program that takes in two dates as input (in the format YYYY-MM-DD) and calculates the difference between them in days, hours, and minutes using Pandas time delta. The program should prompt the user to enter the dates and display the result.\n",
    "### Answer : "
   ]
  },
  {
   "cell_type": "code",
   "execution_count": 1,
   "id": "59f78247",
   "metadata": {},
   "outputs": [
    {
     "name": "stdout",
     "output_type": "stream",
     "text": [
      "Enter the first date (YYYY-MM-DD): 2023-02-22\n",
      "Enter the second date (YYYY-MM-DD): 2023-06-22\n",
      "\n",
      "Time Difference: 120 days, 0 hours, 0 minutes\n"
     ]
    }
   ],
   "source": [
    "import pandas as pd\n",
    "\n",
    "def calculate_time_difference(date1, date2):\n",
    "    # Convert the input dates to datetime objects\n",
    "    date1 = pd.to_datetime(date1)\n",
    "    date2 = pd.to_datetime(date2)\n",
    "\n",
    "    # Calculate the time difference\n",
    "    time_difference = date2 - date1\n",
    "\n",
    "    # Extract days, hours, and minutes\n",
    "    days = time_difference.days\n",
    "    hours, remainder = divmod(time_difference.seconds, 3600)\n",
    "    minutes, _ = divmod(remainder, 60)\n",
    "\n",
    "    return days, hours, minutes\n",
    "\n",
    "def main():\n",
    "    # Prompt user for input\n",
    "    date1_input = input(\"Enter the first date (YYYY-MM-DD): \")\n",
    "    date2_input = input(\"Enter the second date (YYYY-MM-DD): \")\n",
    "\n",
    "    # Calculate time difference\n",
    "    try:\n",
    "        days, hours, minutes = calculate_time_difference(date1_input, date2_input)\n",
    "        \n",
    "        # Display the result\n",
    "        print(f\"\\nTime Difference: {days} days, {hours} hours, {minutes} minutes\")\n",
    "\n",
    "    except ValueError as e:\n",
    "        print(f\"Error: {e}\")\n",
    "\n",
    "if __name__ == \"__main__\":\n",
    "    main()\n"
   ]
  },
  {
   "cell_type": "markdown",
   "id": "c4c003f9",
   "metadata": {},
   "source": [
    "### This program defines a function calculate_time_difference to calculate the difference between two dates in days, hours, and minutes. The main function prompts the user for input, calls the calculation function, and then displays the result."
   ]
  },
  {
   "cell_type": "markdown",
   "id": "f3136b2a",
   "metadata": {},
   "source": [
    "### Q9. Write a Python program that reads a CSV file containing categorical data and converts a specified column to a categorical data type. The program should prompt the user to enter the file path, column name, and category order, and then display the sorted data.\n",
    "### Answer : Certainly! We can use the Pandas library to read the CSV file, convert the specified column to a categorical data type, and then display the sorted data. Here's a sample Python program for this task:\n"
   ]
  },
  {
   "cell_type": "code",
   "execution_count": 2,
   "id": "f466e926",
   "metadata": {},
   "outputs": [
    {
     "name": "stdout",
     "output_type": "stream",
     "text": [
      "Enter the CSV file path: http://localhost:8888/edit/Desktop/My%20Download/From%2021st%20feb/2%20-%20Pandas%20Basic/titanic_data.csv\n",
      "Enter the column name to convert to categorical: PassengerId\n",
      "Enter the desired category order (comma-separated): Name\n",
      "Error: Error tokenizing data. C error: Expected 1 fields in line 12, saw 2\n",
      "\n"
     ]
    }
   ],
   "source": [
    "import pandas as pd\n",
    "\n",
    "def convert_to_categorical(file_path, column_name, category_order):\n",
    "    # Read the CSV file\n",
    "    df = pd.read_csv(file_path)\n",
    "\n",
    "    # Convert the specified column to categorical with custom order\n",
    "    df[column_name] = pd.Categorical(df[column_name], categories=category_order, ordered=True)\n",
    "\n",
    "    # Sort the DataFrame by the categorical column\n",
    "    df = df.sort_values(column_name)\n",
    "\n",
    "    return df\n",
    "\n",
    "def main():\n",
    "    # Prompt user for input\n",
    "    file_path = input(\"Enter the CSV file path: \")\n",
    "    column_name = input(\"Enter the column name to convert to categorical: \")\n",
    "    category_order = input(\"Enter the desired category order (comma-separated): \").split(',')\n",
    "\n",
    "    try:\n",
    "        # Convert to categorical and sort the data\n",
    "        result_df = convert_to_categorical(file_path, column_name, category_order)\n",
    "\n",
    "        # Display the sorted data\n",
    "        print(\"\\nSorted Data:\")\n",
    "        print(result_df)\n",
    "\n",
    "    except Exception as e:\n",
    "        print(f\"Error: {e}\")\n",
    "\n",
    "if __name__ == \"__main__\":\n",
    "    main()\n"
   ]
  },
  {
   "cell_type": "markdown",
   "id": "dd4dc6a2",
   "metadata": {},
   "source": [
    "### Q10. Write a Python program that reads a CSV file containing sales data for different products and visualizes the data using a stacked bar chart to show the sales of each product category over time. The program should prompt the user to enter the file path and display the chart.\n",
    "### Answer : To create a Python program that reads a CSV file containing sales data and visualizes it using a stacked bar chart, you can use the Pandas library for data manipulation and the Matplotlib library for data visualization. Ensure you have both libraries installed (pip install pandas matplotlib) before running the program. Here's a sample Python program:"
   ]
  },
  {
   "cell_type": "code",
   "execution_count": null,
   "id": "8069dcac",
   "metadata": {},
   "outputs": [],
   "source": [
    "import pandas as pd\n",
    "import matplotlib.pyplot as plt\n",
    "\n",
    "def visualize_sales_data(file_path):\n",
    "    # Read the CSV file\n",
    "    df = pd.read_csv(file_path)\n",
    "\n",
    "    # Assuming the CSV contains columns 'Date', 'ProductCategory', and 'Sales'\n",
    "    # Convert 'Date' column to datetime format\n",
    "    df['Date'] = pd.to_datetime(df['Date'])\n",
    "\n",
    "    # Pivot the DataFrame to get a format suitable for a stacked bar chart\n",
    "    pivot_df = df.pivot(index='Date', columns='ProductCategory', values='Sales').fillna(0)\n",
    "\n",
    "    # Plot a stacked bar chart\n",
    "    pivot_df.plot(kind='bar', stacked=True, figsize=(10, 6))\n",
    "    \n",
    "    # Set chart properties\n",
    "    plt.title('Stacked Bar Chart of Sales Data')\n",
    "    plt.xlabel('Date')\n",
    "    plt.ylabel('Sales')\n",
    "    plt.legend(title='Product Category', bbox_to_anchor=(1.05, 1), loc='upper left')\n",
    "\n",
    "    # Display the chart\n",
    "    plt.show()\n",
    "\n",
    "def main():\n",
    "    # Prompt user for input\n",
    "    file_path = input(\"Enter the CSV file path containing sales data: \")\n",
    "\n",
    "    try:\n",
    "        # Visualize sales data using a stacked bar chart\n",
    "        visualize_sales_data(file_path)\n",
    "\n",
    "    except Exception as e:\n",
    "        print(f\"Error: {e}\")\n",
    "\n",
    "if __name__ == \"__main__\":\n",
    "    main()\n"
   ]
  },
  {
   "cell_type": "markdown",
   "id": "26b6a6d3",
   "metadata": {},
   "source": [
    "### This program defines a function visualize_sales_data that reads a CSV file, converts the 'Date' column to datetime format, and then pivots the DataFrame to create a suitable format for a stacked bar chart. The main function prompts the user for the CSV file path and then calls the visualization function.\n",
    "\n",
    "### Ensure that the CSV file contains columns like 'Date', 'ProductCategory', and 'Sales' for this program to work correctly. Adjust the column names accordingly based on your actual data."
   ]
  },
  {
   "cell_type": "markdown",
   "id": "72d66e88",
   "metadata": {},
   "source": [
    "### Q11. You are given a CSV file containing student data that includes the student ID and their test score. Write a Python program that reads the CSV file, calculates the mean, median, and mode of the test scores, and displays the results in a table.\n",
    "The program should do the followingM\n",
    "I Prompt the user to enter the file path of the CSV file containing the student dataR\n",
    "I Read the CSV file into a Pandas DataFrameR\n",
    "I Calculate the mean, median, and mode of the test scores using Pandas toolsR\n",
    "I Display the mean, median, and mode in a table.\n",
    "\n",
    "Assume the CSV file contains the following columnsM\n",
    "I Student ID: The ID of the studentR\n",
    "I Test Score: The score of the student's test.\n",
    "Example usage of the program:\n",
    "\n",
    "Enter the file path of the CSV file containing the student data: student_data.csv\n",
    "\n",
    "\n",
    "+-----------+--------+\n",
    "\n",
    "| Statistic | Value  |\n",
    "\n",
    "+-----------+--------+\n",
    "\n",
    "| Mean      | 79.6   |\n",
    "\n",
    "| Median    | 82     |\n",
    "\n",
    "| Mode      | 85, 90 |\n",
    "\n",
    "+-----------+--------+\n",
    "\n",
    "\n",
    "Assume that the CSV file student_data.csv contains the following data:\n",
    "\n",
    "Student ID,Test Score\n",
    "\n",
    "1,85\n",
    "\n",
    "2,90\n",
    "\n",
    "3,80\n",
    "\n",
    "4,75\n",
    "\n",
    "5,85\n",
    "\n",
    "6,82\n",
    "\n",
    "7,78\n",
    "\n",
    "8,85\n",
    "\n",
    "9,90\n",
    "\n",
    "10,85\n",
    "\n",
    "\n",
    "The program should calculate the mean, median, and mode of the test scores and display the results \n",
    "in a table.\n",
    "\n",
    "### Answer : Certainly! We can use the Pandas library to read the CSV file and calculate the mean, median, and mode of the test scores. Here's a sample Python program for this task:"
   ]
  },
  {
   "cell_type": "code",
   "execution_count": null,
   "id": "49066cf0",
   "metadata": {},
   "outputs": [],
   "source": [
    "import pandas as pd\n",
    "\n",
    "def calculate_statistics(file_path):\n",
    "    # Read the CSV file into a Pandas DataFrame\n",
    "    df = pd.read_csv(file_path)\n",
    "\n",
    "    # Calculate mean, median, and mode of the test scores\n",
    "    mean_score = df['Test Score'].mean()\n",
    "    median_score = df['Test Score'].median()\n",
    "    mode_scores = df['Test Score'].mode()\n",
    "\n",
    "    return mean_score, median_score, mode_scores\n",
    "\n",
    "def display_results(mean, median, mode):\n",
    "    # Display the results in a table\n",
    "    results_table = pd.DataFrame({\n",
    "        'Statistic': ['Mean', 'Median', 'Mode'],\n",
    "        'Value': [mean, median, ', '.join(map(str, mode))]\n",
    "    })\n",
    "\n",
    "    print(\"\\n\" + results_table.to_string(index=False) + \"\\n\")\n",
    "\n",
    "def main():\n",
    "    # Prompt user for input\n",
    "    file_path = input(\"Enter the file path of the CSV file containing student data: \")\n",
    "\n",
    "    try:\n",
    "        # Calculate statistics\n",
    "        mean_score, median_score, mode_scores = calculate_statistics(file_path)\n",
    "\n",
    "        # Display the results\n",
    "        display_results(mean_score, median_score, mode_scores)\n",
    "\n",
    "    except Exception as e:\n",
    "        print(f\"Error: {e}\")\n",
    "\n",
    "if __name__ == \"__main__\":\n",
    "    main()\n"
   ]
  },
  {
   "cell_type": "markdown",
   "id": "280f3812",
   "metadata": {},
   "source": [
    "### This program defines a function calculate_statistics to read the CSV file, calculate the mean, median, and mode of the test scores, and returns the results. Another function, display_results, takes the calculated statistics and displays them in a table using a Pandas DataFrame.\n",
    "\n",
    "### The main function prompts the user for the CSV file path and then calls the calculation and display functions.\n",
    "\n",
    "### Ensure that the CSV file contains the columns 'Student ID' and 'Test Score' for this program to work correctly. Adjust the column names accordingly based on your actual data."
   ]
  },
  {
   "cell_type": "code",
   "execution_count": null,
   "id": "e9fb1e69",
   "metadata": {},
   "outputs": [],
   "source": []
  }
 ],
 "metadata": {
  "kernelspec": {
   "display_name": "Python 3 (ipykernel)",
   "language": "python",
   "name": "python3"
  },
  "language_info": {
   "codemirror_mode": {
    "name": "ipython",
    "version": 3
   },
   "file_extension": ".py",
   "mimetype": "text/x-python",
   "name": "python",
   "nbconvert_exporter": "python",
   "pygments_lexer": "ipython3",
   "version": "3.9.13"
  }
 },
 "nbformat": 4,
 "nbformat_minor": 5
}
